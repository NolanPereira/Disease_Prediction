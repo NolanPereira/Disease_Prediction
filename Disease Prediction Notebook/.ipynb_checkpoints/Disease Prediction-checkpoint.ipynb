{
 "cells": [
  {
   "cell_type": "markdown",
   "id": "7516e5b8",
   "metadata": {},
   "source": [
    "# Importing Dependences"
   ]
  },
  {
   "cell_type": "code",
   "execution_count": 1,
   "id": "ba8f093a",
   "metadata": {},
   "outputs": [],
   "source": [
    "import pandas as pd\n",
    "import numpy as np\n",
    "import matplotlib.pyplot as plt\n",
    "from sklearn.model_selection import train_test_split\n",
    "from sklearn.preprocessing import StandardScaler\n",
    "from sklearn.metrics import f1_score, accuracy_score, confusion_matrix ,classification_report\n",
    "from sklearn.ensemble import RandomForestClassifier"
   ]
  },
  {
   "cell_type": "markdown",
   "id": "19de96b2",
   "metadata": {},
   "source": [
    "# Loading Data"
   ]
  },
  {
   "cell_type": "code",
   "execution_count": 2,
   "id": "b8433d1d",
   "metadata": {},
   "outputs": [],
   "source": [
    "data  = pd.read_csv(\"dataset.csv\")\n",
    "data_sevrity = pd.read_csv(\"Symptom-severity.csv\")"
   ]
  },
  {
   "cell_type": "code",
   "execution_count": 3,
   "id": "4e061da6",
   "metadata": {},
   "outputs": [
    {
     "data": {
      "text/html": [
       "<div>\n",
       "<style scoped>\n",
       "    .dataframe tbody tr th:only-of-type {\n",
       "        vertical-align: middle;\n",
       "    }\n",
       "\n",
       "    .dataframe tbody tr th {\n",
       "        vertical-align: top;\n",
       "    }\n",
       "\n",
       "    .dataframe thead th {\n",
       "        text-align: right;\n",
       "    }\n",
       "</style>\n",
       "<table border=\"1\" class=\"dataframe\">\n",
       "  <thead>\n",
       "    <tr style=\"text-align: right;\">\n",
       "      <th></th>\n",
       "      <th>weight</th>\n",
       "    </tr>\n",
       "    <tr>\n",
       "      <th>Symptom</th>\n",
       "      <th></th>\n",
       "    </tr>\n",
       "  </thead>\n",
       "  <tbody>\n",
       "    <tr>\n",
       "      <th>itching</th>\n",
       "      <td>1</td>\n",
       "    </tr>\n",
       "    <tr>\n",
       "      <th>skin_rash</th>\n",
       "      <td>3</td>\n",
       "    </tr>\n",
       "    <tr>\n",
       "      <th>nodal_skin_eruptions</th>\n",
       "      <td>4</td>\n",
       "    </tr>\n",
       "    <tr>\n",
       "      <th>continuous_sneezing</th>\n",
       "      <td>4</td>\n",
       "    </tr>\n",
       "    <tr>\n",
       "      <th>shivering</th>\n",
       "      <td>5</td>\n",
       "    </tr>\n",
       "  </tbody>\n",
       "</table>\n",
       "</div>"
      ],
      "text/plain": [
       "                      weight\n",
       "Symptom                     \n",
       "itching                    1\n",
       "skin_rash                  3\n",
       "nodal_skin_eruptions       4\n",
       "continuous_sneezing        4\n",
       "shivering                  5"
      ]
     },
     "execution_count": 3,
     "metadata": {},
     "output_type": "execute_result"
    }
   ],
   "source": [
    "data_sevrity.set_index('Symptom').head()"
   ]
  },
  {
   "cell_type": "markdown",
   "id": "2c2e3e26",
   "metadata": {},
   "source": [
    "# Convert data_severity to Dictionary"
   ]
  },
  {
   "cell_type": "code",
   "execution_count": 4,
   "id": "4b10d9f3",
   "metadata": {
    "scrolled": true
   },
   "outputs": [
    {
     "name": "stderr",
     "output_type": "stream",
     "text": [
      "C:\\Users\\Nolan Pereira\\AppData\\Local\\Temp\\ipykernel_5960\\261093321.py:4: UserWarning: DataFrame columns are not unique, some columns will be omitted.\n",
      "  data_dict = data_sevrity.set_index('Symptom').T.to_dict()\n"
     ]
    }
   ],
   "source": [
    "# Setting 'Symptom' as the index \n",
    "# Using .T.to_dict() to create a nested dictionary\n",
    "\n",
    "data_dict = data_sevrity.set_index('Symptom').T.to_dict()"
   ]
  },
  {
   "cell_type": "code",
   "execution_count": 5,
   "id": "f5cb8693",
   "metadata": {
    "scrolled": true
   },
   "outputs": [
    {
     "data": {
      "text/plain": [
       "{'itching': {'weight': 1},\n",
       " 'skin_rash': {'weight': 3},\n",
       " 'nodal_skin_eruptions': {'weight': 4},\n",
       " 'continuous_sneezing': {'weight': 4},\n",
       " 'shivering': {'weight': 5},\n",
       " 'chills': {'weight': 3},\n",
       " 'joint_pain': {'weight': 3},\n",
       " 'stomach_pain': {'weight': 5},\n",
       " 'acidity': {'weight': 3},\n",
       " 'ulcers_on_tongue': {'weight': 4},\n",
       " 'muscle_wasting': {'weight': 3},\n",
       " 'vomiting': {'weight': 5},\n",
       " 'burning_micturition': {'weight': 6},\n",
       " 'spotting_urination': {'weight': 6},\n",
       " 'fatigue': {'weight': 4},\n",
       " 'weight_gain': {'weight': 3},\n",
       " 'anxiety': {'weight': 4},\n",
       " 'cold_hands_and_feets': {'weight': 5},\n",
       " 'mood_swings': {'weight': 3},\n",
       " 'weight_loss': {'weight': 3},\n",
       " 'restlessness': {'weight': 5},\n",
       " 'lethargy': {'weight': 2},\n",
       " 'patches_in_throat': {'weight': 6},\n",
       " 'irregular_sugar_level': {'weight': 5},\n",
       " 'cough': {'weight': 4},\n",
       " 'high_fever': {'weight': 7},\n",
       " 'sunken_eyes': {'weight': 3},\n",
       " 'breathlessness': {'weight': 4},\n",
       " 'sweating': {'weight': 3},\n",
       " 'dehydration': {'weight': 4},\n",
       " 'indigestion': {'weight': 5},\n",
       " 'headache': {'weight': 3},\n",
       " 'yellowish_skin': {'weight': 3},\n",
       " 'dark_urine': {'weight': 4},\n",
       " 'nausea': {'weight': 5},\n",
       " 'loss_of_appetite': {'weight': 4},\n",
       " 'pain_behind_the_eyes': {'weight': 4},\n",
       " 'back_pain': {'weight': 3},\n",
       " 'constipation': {'weight': 4},\n",
       " 'abdominal_pain': {'weight': 4},\n",
       " 'diarrhoea': {'weight': 6},\n",
       " 'mild_fever': {'weight': 5},\n",
       " 'yellow_urine': {'weight': 4},\n",
       " 'yellowing_of_eyes': {'weight': 4},\n",
       " 'acute_liver_failure': {'weight': 6},\n",
       " 'fluid_overload': {'weight': 4},\n",
       " 'swelling_of_stomach': {'weight': 7},\n",
       " 'swelled_lymph_nodes': {'weight': 6},\n",
       " 'malaise': {'weight': 6},\n",
       " 'blurred_and_distorted_vision': {'weight': 5},\n",
       " 'phlegm': {'weight': 5},\n",
       " 'throat_irritation': {'weight': 4},\n",
       " 'redness_of_eyes': {'weight': 5},\n",
       " 'sinus_pressure': {'weight': 4},\n",
       " 'runny_nose': {'weight': 5},\n",
       " 'congestion': {'weight': 5},\n",
       " 'chest_pain': {'weight': 7},\n",
       " 'weakness_in_limbs': {'weight': 7},\n",
       " 'fast_heart_rate': {'weight': 5},\n",
       " 'pain_during_bowel_movements': {'weight': 5},\n",
       " 'pain_in_anal_region': {'weight': 6},\n",
       " 'bloody_stool': {'weight': 5},\n",
       " 'irritation_in_anus': {'weight': 6},\n",
       " 'neck_pain': {'weight': 5},\n",
       " 'dizziness': {'weight': 4},\n",
       " 'cramps': {'weight': 4},\n",
       " 'bruising': {'weight': 4},\n",
       " 'obesity': {'weight': 4},\n",
       " 'swollen_legs': {'weight': 5},\n",
       " 'swollen_blood_vessels': {'weight': 5},\n",
       " 'puffy_face_and_eyes': {'weight': 5},\n",
       " 'enlarged_thyroid': {'weight': 6},\n",
       " 'brittle_nails': {'weight': 5},\n",
       " 'swollen_extremeties': {'weight': 5},\n",
       " 'excessive_hunger': {'weight': 4},\n",
       " 'extra_marital_contacts': {'weight': 5},\n",
       " 'drying_and_tingling_lips': {'weight': 4},\n",
       " 'slurred_speech': {'weight': 4},\n",
       " 'knee_pain': {'weight': 3},\n",
       " 'hip_joint_pain': {'weight': 2},\n",
       " 'muscle_weakness': {'weight': 2},\n",
       " 'stiff_neck': {'weight': 4},\n",
       " 'swelling_joints': {'weight': 5},\n",
       " 'movement_stiffness': {'weight': 5},\n",
       " 'spinning_movements': {'weight': 6},\n",
       " 'loss_of_balance': {'weight': 4},\n",
       " 'unsteadiness': {'weight': 4},\n",
       " 'weakness_of_one_body_side': {'weight': 4},\n",
       " 'loss_of_smell': {'weight': 3},\n",
       " 'bladder_discomfort': {'weight': 4},\n",
       " 'foul_smell_ofurine': {'weight': 5},\n",
       " 'continuous_feel_of_urine': {'weight': 6},\n",
       " 'passage_of_gases': {'weight': 5},\n",
       " 'internal_itching': {'weight': 4},\n",
       " 'toxic_look_(typhos)': {'weight': 5},\n",
       " 'depression': {'weight': 3},\n",
       " 'irritability': {'weight': 2},\n",
       " 'muscle_pain': {'weight': 2},\n",
       " 'altered_sensorium': {'weight': 2},\n",
       " 'red_spots_over_body': {'weight': 3},\n",
       " 'belly_pain': {'weight': 4},\n",
       " 'abnormal_menstruation': {'weight': 6},\n",
       " 'dischromic_patches': {'weight': 6},\n",
       " 'watering_from_eyes': {'weight': 4},\n",
       " 'increased_appetite': {'weight': 5},\n",
       " 'polyuria': {'weight': 4},\n",
       " 'family_history': {'weight': 5},\n",
       " 'mucoid_sputum': {'weight': 4},\n",
       " 'rusty_sputum': {'weight': 4},\n",
       " 'lack_of_concentration': {'weight': 3},\n",
       " 'visual_disturbances': {'weight': 3},\n",
       " 'receiving_blood_transfusion': {'weight': 5},\n",
       " 'receiving_unsterile_injections': {'weight': 2},\n",
       " 'coma': {'weight': 7},\n",
       " 'stomach_bleeding': {'weight': 6},\n",
       " 'distention_of_abdomen': {'weight': 4},\n",
       " 'history_of_alcohol_consumption': {'weight': 5},\n",
       " 'blood_in_sputum': {'weight': 5},\n",
       " 'prominent_veins_on_calf': {'weight': 6},\n",
       " 'palpitations': {'weight': 4},\n",
       " 'painful_walking': {'weight': 2},\n",
       " 'pus_filled_pimples': {'weight': 2},\n",
       " 'blackheads': {'weight': 2},\n",
       " 'scurring': {'weight': 2},\n",
       " 'skin_peeling': {'weight': 3},\n",
       " 'silver_like_dusting': {'weight': 2},\n",
       " 'small_dents_in_nails': {'weight': 2},\n",
       " 'inflammatory_nails': {'weight': 2},\n",
       " 'blister': {'weight': 4},\n",
       " 'red_sore_around_nose': {'weight': 2},\n",
       " 'yellow_crust_ooze': {'weight': 3},\n",
       " 'prognosis': {'weight': 5}}"
      ]
     },
     "execution_count": 5,
     "metadata": {},
     "output_type": "execute_result"
    }
   ],
   "source": [
    "data_dict"
   ]
  },
  {
   "cell_type": "code",
   "execution_count": 6,
   "id": "97e1db4f",
   "metadata": {},
   "outputs": [
    {
     "data": {
      "text/html": [
       "<div>\n",
       "<style scoped>\n",
       "    .dataframe tbody tr th:only-of-type {\n",
       "        vertical-align: middle;\n",
       "    }\n",
       "\n",
       "    .dataframe tbody tr th {\n",
       "        vertical-align: top;\n",
       "    }\n",
       "\n",
       "    .dataframe thead th {\n",
       "        text-align: right;\n",
       "    }\n",
       "</style>\n",
       "<table border=\"1\" class=\"dataframe\">\n",
       "  <thead>\n",
       "    <tr style=\"text-align: right;\">\n",
       "      <th></th>\n",
       "      <th>Disease</th>\n",
       "      <th>Symptom_1</th>\n",
       "      <th>Symptom_2</th>\n",
       "      <th>Symptom_3</th>\n",
       "      <th>Symptom_4</th>\n",
       "      <th>Symptom_5</th>\n",
       "      <th>Symptom_6</th>\n",
       "      <th>Symptom_7</th>\n",
       "      <th>Symptom_8</th>\n",
       "      <th>Symptom_9</th>\n",
       "      <th>Symptom_10</th>\n",
       "      <th>Symptom_11</th>\n",
       "      <th>Symptom_12</th>\n",
       "      <th>Symptom_13</th>\n",
       "      <th>Symptom_14</th>\n",
       "      <th>Symptom_15</th>\n",
       "      <th>Symptom_16</th>\n",
       "      <th>Symptom_17</th>\n",
       "    </tr>\n",
       "  </thead>\n",
       "  <tbody>\n",
       "    <tr>\n",
       "      <th>0</th>\n",
       "      <td>Fungal infection</td>\n",
       "      <td>itching</td>\n",
       "      <td>skin_rash</td>\n",
       "      <td>nodal_skin_eruptions</td>\n",
       "      <td>dischromic _patches</td>\n",
       "      <td>NaN</td>\n",
       "      <td>NaN</td>\n",
       "      <td>NaN</td>\n",
       "      <td>NaN</td>\n",
       "      <td>NaN</td>\n",
       "      <td>NaN</td>\n",
       "      <td>NaN</td>\n",
       "      <td>NaN</td>\n",
       "      <td>NaN</td>\n",
       "      <td>NaN</td>\n",
       "      <td>NaN</td>\n",
       "      <td>NaN</td>\n",
       "      <td>NaN</td>\n",
       "    </tr>\n",
       "    <tr>\n",
       "      <th>1</th>\n",
       "      <td>Fungal infection</td>\n",
       "      <td>skin_rash</td>\n",
       "      <td>nodal_skin_eruptions</td>\n",
       "      <td>dischromic _patches</td>\n",
       "      <td>NaN</td>\n",
       "      <td>NaN</td>\n",
       "      <td>NaN</td>\n",
       "      <td>NaN</td>\n",
       "      <td>NaN</td>\n",
       "      <td>NaN</td>\n",
       "      <td>NaN</td>\n",
       "      <td>NaN</td>\n",
       "      <td>NaN</td>\n",
       "      <td>NaN</td>\n",
       "      <td>NaN</td>\n",
       "      <td>NaN</td>\n",
       "      <td>NaN</td>\n",
       "      <td>NaN</td>\n",
       "    </tr>\n",
       "    <tr>\n",
       "      <th>2</th>\n",
       "      <td>Fungal infection</td>\n",
       "      <td>itching</td>\n",
       "      <td>nodal_skin_eruptions</td>\n",
       "      <td>dischromic _patches</td>\n",
       "      <td>NaN</td>\n",
       "      <td>NaN</td>\n",
       "      <td>NaN</td>\n",
       "      <td>NaN</td>\n",
       "      <td>NaN</td>\n",
       "      <td>NaN</td>\n",
       "      <td>NaN</td>\n",
       "      <td>NaN</td>\n",
       "      <td>NaN</td>\n",
       "      <td>NaN</td>\n",
       "      <td>NaN</td>\n",
       "      <td>NaN</td>\n",
       "      <td>NaN</td>\n",
       "      <td>NaN</td>\n",
       "    </tr>\n",
       "    <tr>\n",
       "      <th>3</th>\n",
       "      <td>Fungal infection</td>\n",
       "      <td>itching</td>\n",
       "      <td>skin_rash</td>\n",
       "      <td>dischromic _patches</td>\n",
       "      <td>NaN</td>\n",
       "      <td>NaN</td>\n",
       "      <td>NaN</td>\n",
       "      <td>NaN</td>\n",
       "      <td>NaN</td>\n",
       "      <td>NaN</td>\n",
       "      <td>NaN</td>\n",
       "      <td>NaN</td>\n",
       "      <td>NaN</td>\n",
       "      <td>NaN</td>\n",
       "      <td>NaN</td>\n",
       "      <td>NaN</td>\n",
       "      <td>NaN</td>\n",
       "      <td>NaN</td>\n",
       "    </tr>\n",
       "    <tr>\n",
       "      <th>4</th>\n",
       "      <td>Fungal infection</td>\n",
       "      <td>itching</td>\n",
       "      <td>skin_rash</td>\n",
       "      <td>nodal_skin_eruptions</td>\n",
       "      <td>NaN</td>\n",
       "      <td>NaN</td>\n",
       "      <td>NaN</td>\n",
       "      <td>NaN</td>\n",
       "      <td>NaN</td>\n",
       "      <td>NaN</td>\n",
       "      <td>NaN</td>\n",
       "      <td>NaN</td>\n",
       "      <td>NaN</td>\n",
       "      <td>NaN</td>\n",
       "      <td>NaN</td>\n",
       "      <td>NaN</td>\n",
       "      <td>NaN</td>\n",
       "      <td>NaN</td>\n",
       "    </tr>\n",
       "  </tbody>\n",
       "</table>\n",
       "</div>"
      ],
      "text/plain": [
       "            Disease   Symptom_1              Symptom_2              Symptom_3  \\\n",
       "0  Fungal infection     itching              skin_rash   nodal_skin_eruptions   \n",
       "1  Fungal infection   skin_rash   nodal_skin_eruptions    dischromic _patches   \n",
       "2  Fungal infection     itching   nodal_skin_eruptions    dischromic _patches   \n",
       "3  Fungal infection     itching              skin_rash    dischromic _patches   \n",
       "4  Fungal infection     itching              skin_rash   nodal_skin_eruptions   \n",
       "\n",
       "              Symptom_4 Symptom_5 Symptom_6 Symptom_7 Symptom_8 Symptom_9  \\\n",
       "0   dischromic _patches       NaN       NaN       NaN       NaN       NaN   \n",
       "1                   NaN       NaN       NaN       NaN       NaN       NaN   \n",
       "2                   NaN       NaN       NaN       NaN       NaN       NaN   \n",
       "3                   NaN       NaN       NaN       NaN       NaN       NaN   \n",
       "4                   NaN       NaN       NaN       NaN       NaN       NaN   \n",
       "\n",
       "  Symptom_10 Symptom_11 Symptom_12 Symptom_13 Symptom_14 Symptom_15  \\\n",
       "0        NaN        NaN        NaN        NaN        NaN        NaN   \n",
       "1        NaN        NaN        NaN        NaN        NaN        NaN   \n",
       "2        NaN        NaN        NaN        NaN        NaN        NaN   \n",
       "3        NaN        NaN        NaN        NaN        NaN        NaN   \n",
       "4        NaN        NaN        NaN        NaN        NaN        NaN   \n",
       "\n",
       "  Symptom_16 Symptom_17  \n",
       "0        NaN        NaN  \n",
       "1        NaN        NaN  \n",
       "2        NaN        NaN  \n",
       "3        NaN        NaN  \n",
       "4        NaN        NaN  "
      ]
     },
     "execution_count": 6,
     "metadata": {},
     "output_type": "execute_result"
    }
   ],
   "source": [
    "data.head()"
   ]
  },
  {
   "cell_type": "markdown",
   "id": "5bd8006e",
   "metadata": {},
   "source": [
    "# Removing space between words "
   ]
  },
  {
   "cell_type": "code",
   "execution_count": 7,
   "id": "84643750",
   "metadata": {},
   "outputs": [],
   "source": [
    "# use strip() to remove any unwanted spaces or enters before or after the word \n",
    "\n",
    "def remove_space_between_word(dataset):\n",
    "    for col in dataset.columns:\n",
    "        for i in range(len(dataset[col])):\n",
    "            if (type(dataset[col][i]) == str ):\n",
    "                dataset[col][i] = dataset[col][i].strip()\n",
    "                dataset[col][i] = dataset[col][i].replace(\" \", \"_\")\n",
    "    return data"
   ]
  },
  {
   "cell_type": "code",
   "execution_count": 8,
   "id": "6be9f7c9",
   "metadata": {
    "scrolled": false
   },
   "outputs": [
    {
     "data": {
      "text/html": [
       "<div>\n",
       "<style scoped>\n",
       "    .dataframe tbody tr th:only-of-type {\n",
       "        vertical-align: middle;\n",
       "    }\n",
       "\n",
       "    .dataframe tbody tr th {\n",
       "        vertical-align: top;\n",
       "    }\n",
       "\n",
       "    .dataframe thead th {\n",
       "        text-align: right;\n",
       "    }\n",
       "</style>\n",
       "<table border=\"1\" class=\"dataframe\">\n",
       "  <thead>\n",
       "    <tr style=\"text-align: right;\">\n",
       "      <th></th>\n",
       "      <th>Disease</th>\n",
       "      <th>Symptom_1</th>\n",
       "      <th>Symptom_2</th>\n",
       "      <th>Symptom_3</th>\n",
       "      <th>Symptom_4</th>\n",
       "      <th>Symptom_5</th>\n",
       "      <th>Symptom_6</th>\n",
       "      <th>Symptom_7</th>\n",
       "      <th>Symptom_8</th>\n",
       "      <th>Symptom_9</th>\n",
       "      <th>Symptom_10</th>\n",
       "      <th>Symptom_11</th>\n",
       "      <th>Symptom_12</th>\n",
       "      <th>Symptom_13</th>\n",
       "      <th>Symptom_14</th>\n",
       "      <th>Symptom_15</th>\n",
       "      <th>Symptom_16</th>\n",
       "      <th>Symptom_17</th>\n",
       "    </tr>\n",
       "  </thead>\n",
       "  <tbody>\n",
       "    <tr>\n",
       "      <th>0</th>\n",
       "      <td>Fungal_infection</td>\n",
       "      <td>itching</td>\n",
       "      <td>skin_rash</td>\n",
       "      <td>nodal_skin_eruptions</td>\n",
       "      <td>dischromic__patches</td>\n",
       "      <td>NaN</td>\n",
       "      <td>NaN</td>\n",
       "      <td>NaN</td>\n",
       "      <td>NaN</td>\n",
       "      <td>NaN</td>\n",
       "      <td>NaN</td>\n",
       "      <td>NaN</td>\n",
       "      <td>NaN</td>\n",
       "      <td>NaN</td>\n",
       "      <td>NaN</td>\n",
       "      <td>NaN</td>\n",
       "      <td>NaN</td>\n",
       "      <td>NaN</td>\n",
       "    </tr>\n",
       "    <tr>\n",
       "      <th>1</th>\n",
       "      <td>Fungal_infection</td>\n",
       "      <td>skin_rash</td>\n",
       "      <td>nodal_skin_eruptions</td>\n",
       "      <td>dischromic__patches</td>\n",
       "      <td>NaN</td>\n",
       "      <td>NaN</td>\n",
       "      <td>NaN</td>\n",
       "      <td>NaN</td>\n",
       "      <td>NaN</td>\n",
       "      <td>NaN</td>\n",
       "      <td>NaN</td>\n",
       "      <td>NaN</td>\n",
       "      <td>NaN</td>\n",
       "      <td>NaN</td>\n",
       "      <td>NaN</td>\n",
       "      <td>NaN</td>\n",
       "      <td>NaN</td>\n",
       "      <td>NaN</td>\n",
       "    </tr>\n",
       "    <tr>\n",
       "      <th>2</th>\n",
       "      <td>Fungal_infection</td>\n",
       "      <td>itching</td>\n",
       "      <td>nodal_skin_eruptions</td>\n",
       "      <td>dischromic__patches</td>\n",
       "      <td>NaN</td>\n",
       "      <td>NaN</td>\n",
       "      <td>NaN</td>\n",
       "      <td>NaN</td>\n",
       "      <td>NaN</td>\n",
       "      <td>NaN</td>\n",
       "      <td>NaN</td>\n",
       "      <td>NaN</td>\n",
       "      <td>NaN</td>\n",
       "      <td>NaN</td>\n",
       "      <td>NaN</td>\n",
       "      <td>NaN</td>\n",
       "      <td>NaN</td>\n",
       "      <td>NaN</td>\n",
       "    </tr>\n",
       "    <tr>\n",
       "      <th>3</th>\n",
       "      <td>Fungal_infection</td>\n",
       "      <td>itching</td>\n",
       "      <td>skin_rash</td>\n",
       "      <td>dischromic__patches</td>\n",
       "      <td>NaN</td>\n",
       "      <td>NaN</td>\n",
       "      <td>NaN</td>\n",
       "      <td>NaN</td>\n",
       "      <td>NaN</td>\n",
       "      <td>NaN</td>\n",
       "      <td>NaN</td>\n",
       "      <td>NaN</td>\n",
       "      <td>NaN</td>\n",
       "      <td>NaN</td>\n",
       "      <td>NaN</td>\n",
       "      <td>NaN</td>\n",
       "      <td>NaN</td>\n",
       "      <td>NaN</td>\n",
       "    </tr>\n",
       "    <tr>\n",
       "      <th>4</th>\n",
       "      <td>Fungal_infection</td>\n",
       "      <td>itching</td>\n",
       "      <td>skin_rash</td>\n",
       "      <td>nodal_skin_eruptions</td>\n",
       "      <td>NaN</td>\n",
       "      <td>NaN</td>\n",
       "      <td>NaN</td>\n",
       "      <td>NaN</td>\n",
       "      <td>NaN</td>\n",
       "      <td>NaN</td>\n",
       "      <td>NaN</td>\n",
       "      <td>NaN</td>\n",
       "      <td>NaN</td>\n",
       "      <td>NaN</td>\n",
       "      <td>NaN</td>\n",
       "      <td>NaN</td>\n",
       "      <td>NaN</td>\n",
       "      <td>NaN</td>\n",
       "    </tr>\n",
       "  </tbody>\n",
       "</table>\n",
       "</div>"
      ],
      "text/plain": [
       "            Disease  Symptom_1             Symptom_2             Symptom_3  \\\n",
       "0  Fungal_infection    itching             skin_rash  nodal_skin_eruptions   \n",
       "1  Fungal_infection  skin_rash  nodal_skin_eruptions   dischromic__patches   \n",
       "2  Fungal_infection    itching  nodal_skin_eruptions   dischromic__patches   \n",
       "3  Fungal_infection    itching             skin_rash   dischromic__patches   \n",
       "4  Fungal_infection    itching             skin_rash  nodal_skin_eruptions   \n",
       "\n",
       "             Symptom_4 Symptom_5 Symptom_6 Symptom_7 Symptom_8 Symptom_9  \\\n",
       "0  dischromic__patches       NaN       NaN       NaN       NaN       NaN   \n",
       "1                  NaN       NaN       NaN       NaN       NaN       NaN   \n",
       "2                  NaN       NaN       NaN       NaN       NaN       NaN   \n",
       "3                  NaN       NaN       NaN       NaN       NaN       NaN   \n",
       "4                  NaN       NaN       NaN       NaN       NaN       NaN   \n",
       "\n",
       "  Symptom_10 Symptom_11 Symptom_12 Symptom_13 Symptom_14 Symptom_15  \\\n",
       "0        NaN        NaN        NaN        NaN        NaN        NaN   \n",
       "1        NaN        NaN        NaN        NaN        NaN        NaN   \n",
       "2        NaN        NaN        NaN        NaN        NaN        NaN   \n",
       "3        NaN        NaN        NaN        NaN        NaN        NaN   \n",
       "4        NaN        NaN        NaN        NaN        NaN        NaN   \n",
       "\n",
       "  Symptom_16 Symptom_17  \n",
       "0        NaN        NaN  \n",
       "1        NaN        NaN  \n",
       "2        NaN        NaN  \n",
       "3        NaN        NaN  \n",
       "4        NaN        NaN  "
      ]
     },
     "execution_count": 8,
     "metadata": {},
     "output_type": "execute_result"
    }
   ],
   "source": [
    "new_df = remove_space_between_word(data)\n",
    "new_df.head()"
   ]
  },
  {
   "cell_type": "markdown",
   "id": "efe5021f",
   "metadata": {},
   "source": [
    "# Replacing the symptoms by their weight"
   ]
  },
  {
   "cell_type": "code",
   "execution_count": 9,
   "id": "3e80abcd",
   "metadata": {},
   "outputs": [],
   "source": [
    "def encode_data(dataset , data_dict_weigth):\n",
    "    cols = dataset.columns\n",
    "    for columnName in cols:\n",
    "        for i in range(len(dataset[columnName])):\n",
    "            try:\n",
    "            #print(data_dict[data2[columnName][i]][\"weight\"])\n",
    "                dataset[columnName][i] = data_dict[dataset[columnName][i]][\"weight\"]\n",
    "            except:\n",
    "                pass\n",
    "    dataset = dataset.fillna(0) # put empty cell to 0\n",
    "    dataset = dataset.replace(\"foul_smell_of_urine\" , 5)\n",
    "    dataset = dataset.replace(\"dischromic__patches\" , 6)\n",
    "    dataset = dataset.replace(\"spotting__urination\" , 6)\n",
    "    return dataset"
   ]
  },
  {
   "cell_type": "code",
   "execution_count": 10,
   "id": "f03cd795",
   "metadata": {
    "scrolled": true
   },
   "outputs": [
    {
     "data": {
      "text/html": [
       "<div>\n",
       "<style scoped>\n",
       "    .dataframe tbody tr th:only-of-type {\n",
       "        vertical-align: middle;\n",
       "    }\n",
       "\n",
       "    .dataframe tbody tr th {\n",
       "        vertical-align: top;\n",
       "    }\n",
       "\n",
       "    .dataframe thead th {\n",
       "        text-align: right;\n",
       "    }\n",
       "</style>\n",
       "<table border=\"1\" class=\"dataframe\">\n",
       "  <thead>\n",
       "    <tr style=\"text-align: right;\">\n",
       "      <th></th>\n",
       "      <th>Disease</th>\n",
       "      <th>Symptom_1</th>\n",
       "      <th>Symptom_2</th>\n",
       "      <th>Symptom_3</th>\n",
       "      <th>Symptom_4</th>\n",
       "      <th>Symptom_5</th>\n",
       "      <th>Symptom_6</th>\n",
       "      <th>Symptom_7</th>\n",
       "      <th>Symptom_8</th>\n",
       "      <th>Symptom_9</th>\n",
       "      <th>Symptom_10</th>\n",
       "      <th>Symptom_11</th>\n",
       "      <th>Symptom_12</th>\n",
       "      <th>Symptom_13</th>\n",
       "      <th>Symptom_14</th>\n",
       "      <th>Symptom_15</th>\n",
       "      <th>Symptom_16</th>\n",
       "      <th>Symptom_17</th>\n",
       "    </tr>\n",
       "  </thead>\n",
       "  <tbody>\n",
       "    <tr>\n",
       "      <th>0</th>\n",
       "      <td>Fungal_infection</td>\n",
       "      <td>1</td>\n",
       "      <td>3</td>\n",
       "      <td>4</td>\n",
       "      <td>6</td>\n",
       "      <td>0</td>\n",
       "      <td>0</td>\n",
       "      <td>0</td>\n",
       "      <td>0</td>\n",
       "      <td>0</td>\n",
       "      <td>0</td>\n",
       "      <td>0</td>\n",
       "      <td>0</td>\n",
       "      <td>0</td>\n",
       "      <td>0</td>\n",
       "      <td>0</td>\n",
       "      <td>0</td>\n",
       "      <td>0</td>\n",
       "    </tr>\n",
       "    <tr>\n",
       "      <th>1</th>\n",
       "      <td>Fungal_infection</td>\n",
       "      <td>3</td>\n",
       "      <td>4</td>\n",
       "      <td>6</td>\n",
       "      <td>0</td>\n",
       "      <td>0</td>\n",
       "      <td>0</td>\n",
       "      <td>0</td>\n",
       "      <td>0</td>\n",
       "      <td>0</td>\n",
       "      <td>0</td>\n",
       "      <td>0</td>\n",
       "      <td>0</td>\n",
       "      <td>0</td>\n",
       "      <td>0</td>\n",
       "      <td>0</td>\n",
       "      <td>0</td>\n",
       "      <td>0</td>\n",
       "    </tr>\n",
       "    <tr>\n",
       "      <th>2</th>\n",
       "      <td>Fungal_infection</td>\n",
       "      <td>1</td>\n",
       "      <td>4</td>\n",
       "      <td>6</td>\n",
       "      <td>0</td>\n",
       "      <td>0</td>\n",
       "      <td>0</td>\n",
       "      <td>0</td>\n",
       "      <td>0</td>\n",
       "      <td>0</td>\n",
       "      <td>0</td>\n",
       "      <td>0</td>\n",
       "      <td>0</td>\n",
       "      <td>0</td>\n",
       "      <td>0</td>\n",
       "      <td>0</td>\n",
       "      <td>0</td>\n",
       "      <td>0</td>\n",
       "    </tr>\n",
       "    <tr>\n",
       "      <th>3</th>\n",
       "      <td>Fungal_infection</td>\n",
       "      <td>1</td>\n",
       "      <td>3</td>\n",
       "      <td>6</td>\n",
       "      <td>0</td>\n",
       "      <td>0</td>\n",
       "      <td>0</td>\n",
       "      <td>0</td>\n",
       "      <td>0</td>\n",
       "      <td>0</td>\n",
       "      <td>0</td>\n",
       "      <td>0</td>\n",
       "      <td>0</td>\n",
       "      <td>0</td>\n",
       "      <td>0</td>\n",
       "      <td>0</td>\n",
       "      <td>0</td>\n",
       "      <td>0</td>\n",
       "    </tr>\n",
       "    <tr>\n",
       "      <th>4</th>\n",
       "      <td>Fungal_infection</td>\n",
       "      <td>1</td>\n",
       "      <td>3</td>\n",
       "      <td>4</td>\n",
       "      <td>0</td>\n",
       "      <td>0</td>\n",
       "      <td>0</td>\n",
       "      <td>0</td>\n",
       "      <td>0</td>\n",
       "      <td>0</td>\n",
       "      <td>0</td>\n",
       "      <td>0</td>\n",
       "      <td>0</td>\n",
       "      <td>0</td>\n",
       "      <td>0</td>\n",
       "      <td>0</td>\n",
       "      <td>0</td>\n",
       "      <td>0</td>\n",
       "    </tr>\n",
       "  </tbody>\n",
       "</table>\n",
       "</div>"
      ],
      "text/plain": [
       "            Disease  Symptom_1  Symptom_2  Symptom_3  Symptom_4  Symptom_5  \\\n",
       "0  Fungal_infection          1          3          4          6          0   \n",
       "1  Fungal_infection          3          4          6          0          0   \n",
       "2  Fungal_infection          1          4          6          0          0   \n",
       "3  Fungal_infection          1          3          6          0          0   \n",
       "4  Fungal_infection          1          3          4          0          0   \n",
       "\n",
       "   Symptom_6  Symptom_7  Symptom_8  Symptom_9  Symptom_10  Symptom_11  \\\n",
       "0          0          0          0          0           0           0   \n",
       "1          0          0          0          0           0           0   \n",
       "2          0          0          0          0           0           0   \n",
       "3          0          0          0          0           0           0   \n",
       "4          0          0          0          0           0           0   \n",
       "\n",
       "   Symptom_12  Symptom_13  Symptom_14  Symptom_15  Symptom_16  Symptom_17  \n",
       "0           0           0           0           0           0           0  \n",
       "1           0           0           0           0           0           0  \n",
       "2           0           0           0           0           0           0  \n",
       "3           0           0           0           0           0           0  \n",
       "4           0           0           0           0           0           0  "
      ]
     },
     "execution_count": 10,
     "metadata": {},
     "output_type": "execute_result"
    }
   ],
   "source": [
    "df = encode_data(new_df , data_dict)\n",
    "df.head()"
   ]
  },
  {
   "cell_type": "markdown",
   "id": "be8e23ae",
   "metadata": {},
   "source": [
    "# Check if all the Symptoms are replace by their weigth"
   ]
  },
  {
   "cell_type": "code",
   "execution_count": 11,
   "id": "8704339f",
   "metadata": {},
   "outputs": [
    {
     "data": {
      "text/plain": [
       "Disease       object\n",
       "Symptom_1      int64\n",
       "Symptom_2      int64\n",
       "Symptom_3      int64\n",
       "Symptom_4      int64\n",
       "Symptom_5      int64\n",
       "Symptom_6      int64\n",
       "Symptom_7      int64\n",
       "Symptom_8      int64\n",
       "Symptom_9      int64\n",
       "Symptom_10     int64\n",
       "Symptom_11     int64\n",
       "Symptom_12     int64\n",
       "Symptom_13     int64\n",
       "Symptom_14     int64\n",
       "Symptom_15     int64\n",
       "Symptom_16     int64\n",
       "Symptom_17     int64\n",
       "dtype: object"
      ]
     },
     "execution_count": 11,
     "metadata": {},
     "output_type": "execute_result"
    }
   ],
   "source": [
    "df.dtypes"
   ]
  },
  {
   "cell_type": "markdown",
   "id": "face0261",
   "metadata": {},
   "source": [
    "### All the columns are 'int' expect Disease, meaning all the Symptoms have been replace by their weights"
   ]
  },
  {
   "cell_type": "markdown",
   "id": "65a96381",
   "metadata": {},
   "source": [
    "# Splitng the Data"
   ]
  },
  {
   "cell_type": "code",
   "execution_count": 12,
   "id": "d4fa48dc",
   "metadata": {},
   "outputs": [],
   "source": [
    "x = df.drop('Disease' , axis =1)\n",
    "y = data[\"Disease\"]"
   ]
  },
  {
   "cell_type": "code",
   "execution_count": 13,
   "id": "7cff2f4c",
   "metadata": {},
   "outputs": [],
   "source": [
    "x_train, x_test, y_train, y_test = train_test_split(x, y, shuffle=True, train_size = 0.70)"
   ]
  },
  {
   "cell_type": "markdown",
   "id": "d5580d0c",
   "metadata": {},
   "source": [
    "# Scaling the Data"
   ]
  },
  {
   "cell_type": "code",
   "execution_count": 14,
   "id": "2766999c",
   "metadata": {},
   "outputs": [],
   "source": [
    "scaler = StandardScaler()\n",
    "\n",
    "scaler.fit(x_train)\n",
    "x_train = scaler.transform(x_train)\n",
    "\n",
    "x_test = scaler.transform(x_test)\n"
   ]
  },
  {
   "cell_type": "markdown",
   "id": "cbc755da",
   "metadata": {},
   "source": [
    "# Training the Model"
   ]
  },
  {
   "cell_type": "code",
   "execution_count": 15,
   "id": "28189b84",
   "metadata": {},
   "outputs": [],
   "source": [
    "randomFC = RandomForestClassifier()\n",
    "randomFC.fit(x_train, y_train)\n",
    "result = randomFC.predict(x_test)"
   ]
  },
  {
   "cell_type": "markdown",
   "id": "78862cbb",
   "metadata": {},
   "source": [
    "# Testing the Model"
   ]
  },
  {
   "cell_type": "code",
   "execution_count": 16,
   "id": "b9c927f9",
   "metadata": {
    "scrolled": false
   },
   "outputs": [
    {
     "name": "stdout",
     "output_type": "stream",
     "text": [
      "                                         precision    recall  f1-score   support\n",
      "\n",
      "(vertigo)_Paroymsal__Positional_Vertigo       1.00      1.00      1.00        38\n",
      "                                   AIDS       1.00      1.00      1.00        37\n",
      "                                   Acne       1.00      1.00      1.00        37\n",
      "                    Alcoholic_hepatitis       1.00      1.00      1.00        38\n",
      "                                Allergy       0.94      1.00      0.97        34\n",
      "                              Arthritis       1.00      1.00      1.00        33\n",
      "                       Bronchial_Asthma       1.00      1.00      1.00        38\n",
      "                   Cervical_spondylosis       0.93      1.00      0.97        43\n",
      "                            Chicken_pox       1.00      1.00      1.00        41\n",
      "                    Chronic_cholestasis       1.00      1.00      1.00        42\n",
      "                            Common_Cold       1.00      1.00      1.00        34\n",
      "                                 Dengue       1.00      1.00      1.00        38\n",
      "                               Diabetes       1.00      1.00      1.00        39\n",
      "           Dimorphic_hemmorhoids(piles)       1.00      1.00      1.00        32\n",
      "                          Drug_Reaction       1.00      1.00      1.00        39\n",
      "                       Fungal_infection       1.00      0.89      0.94        38\n",
      "                                   GERD       1.00      1.00      1.00        38\n",
      "                        Gastroenteritis       0.90      0.97      0.93        36\n",
      "                           Heart_attack       1.00      1.00      1.00        36\n",
      "                            Hepatitis_B       1.00      1.00      1.00        43\n",
      "                            Hepatitis_C       1.00      1.00      1.00        40\n",
      "                            Hepatitis_D       1.00      1.00      1.00        34\n",
      "                            Hepatitis_E       1.00      1.00      1.00        33\n",
      "                           Hypertension       1.00      0.91      0.96        35\n",
      "                        Hyperthyroidism       1.00      1.00      1.00        37\n",
      "                           Hypoglycemia       1.00      1.00      1.00        30\n",
      "                         Hypothyroidism       1.00      1.00      1.00        38\n",
      "                               Impetigo       1.00      1.00      1.00        34\n",
      "                               Jaundice       1.00      1.00      1.00        32\n",
      "                                Malaria       1.00      1.00      1.00        31\n",
      "                               Migraine       1.00      1.00      1.00        34\n",
      "                        Osteoarthristis       1.00      1.00      1.00        33\n",
      "           Paralysis_(brain_hemorrhage)       1.00      0.97      0.98        32\n",
      "                    Peptic_ulcer_diseae       1.00      1.00      1.00        25\n",
      "                              Pneumonia       1.00      1.00      1.00        44\n",
      "                              Psoriasis       1.00      1.00      1.00        29\n",
      "                           Tuberculosis       1.00      1.00      1.00        44\n",
      "                                Typhoid       1.00      1.00      1.00        37\n",
      "                Urinary_tract_infection       1.00      1.00      1.00        41\n",
      "                         Varicose_veins       1.00      1.00      1.00        31\n",
      "                            hepatitis_A       1.00      1.00      1.00        28\n",
      "\n",
      "                               accuracy                           0.99      1476\n",
      "                              macro avg       0.99      0.99      0.99      1476\n",
      "                           weighted avg       0.99      0.99      0.99      1476\n",
      "\n",
      "---------------------------------------------------------------------------------\n",
      "F1-score% = 99.40207158234587 | Accuracy% = 99.39024390243902\n"
     ]
    }
   ],
   "source": [
    "print(classification_report(y_test, result))\n",
    "print('---------------------------------------------------------------------------------')\n",
    "print('F1-score% =', f1_score(y_test, result, average='macro')*100, '|', 'Accuracy% =', accuracy_score(y_test, result)*100)"
   ]
  },
  {
   "cell_type": "markdown",
   "id": "8b8341ed",
   "metadata": {},
   "source": [
    "# Testing for individual data"
   ]
  },
  {
   "cell_type": "code",
   "execution_count": 17,
   "id": "2aafda2c",
   "metadata": {
    "scrolled": false
   },
   "outputs": [
    {
     "data": {
      "text/plain": [
       "array([ 1.98608976,  2.3571714 ,  0.66437734, -2.1679651 , -1.48385361,\n",
       "       -1.11057349, -0.88100308, -0.75858247, -0.68550103, -0.62588925,\n",
       "       -0.5154959 , -0.38937679, -0.31904571, -0.2419488 , -0.21382854,\n",
       "       -0.18446863, -0.12621095])"
      ]
     },
     "execution_count": 17,
     "metadata": {},
     "output_type": "execute_result"
    }
   ],
   "source": [
    " x_test[0]"
   ]
  },
  {
   "cell_type": "markdown",
   "id": "bf1bfb3f",
   "metadata": {},
   "source": [
    "### Scaled Input Passed to the Model"
   ]
  },
  {
   "cell_type": "code",
   "execution_count": 18,
   "id": "bce768ba",
   "metadata": {
    "scrolled": true
   },
   "outputs": [
    {
     "name": "stdout",
     "output_type": "stream",
     "text": [
      "[[-0.30754719, 2.34972433, -0.13732875, -1.06139671, -0.10295526, -1.12685907, -0.88774374, -0.77166929, -0.69583021, -0.63920226, -0.52509095, -0.39356317, -0.32484926, -0.24829141, -0.21977579, -0.19079031, -0.12013738]]\n"
     ]
    }
   ],
   "source": [
    "Input = [[-0.30754719,  2.34972433, -0.13732875, -1.06139671, -0.10295526,\n",
    "       -1.12685907, -0.88774374, -0.77166929, -0.69583021, -0.63920226,\n",
    "       -0.52509095, -0.39356317, -0.32484926, -0.24829141, -0.21977579,\n",
    "       -0.19079031, -0.12013738]]\n",
    "print(Input)"
   ]
  },
  {
   "cell_type": "markdown",
   "id": "5ae3ee79",
   "metadata": {},
   "source": [
    "### Final Output from the model"
   ]
  },
  {
   "cell_type": "code",
   "execution_count": 19,
   "id": "bf9899c9",
   "metadata": {},
   "outputs": [
    {
     "data": {
      "text/plain": [
       "array(['Impetigo'], dtype=object)"
      ]
     },
     "execution_count": 19,
     "metadata": {},
     "output_type": "execute_result"
    }
   ],
   "source": [
    "Output = randomFC.predict(Input)\n",
    "Output"
   ]
  },
  {
   "cell_type": "code",
   "execution_count": 34,
   "id": "98dc65da",
   "metadata": {},
   "outputs": [],
   "source": [
    "Model_Output = ' '.join(Output)"
   ]
  },
  {
   "cell_type": "markdown",
   "id": "49821a0e",
   "metadata": {},
   "source": [
    "# Providing Solution for the Disease"
   ]
  },
  {
   "cell_type": "code",
   "execution_count": 20,
   "id": "0a425e47",
   "metadata": {},
   "outputs": [
    {
     "data": {
      "text/html": [
       "<div>\n",
       "<style scoped>\n",
       "    .dataframe tbody tr th:only-of-type {\n",
       "        vertical-align: middle;\n",
       "    }\n",
       "\n",
       "    .dataframe tbody tr th {\n",
       "        vertical-align: top;\n",
       "    }\n",
       "\n",
       "    .dataframe thead th {\n",
       "        text-align: right;\n",
       "    }\n",
       "</style>\n",
       "<table border=\"1\" class=\"dataframe\">\n",
       "  <thead>\n",
       "    <tr style=\"text-align: right;\">\n",
       "      <th></th>\n",
       "      <th>Disease</th>\n",
       "      <th>Precaution_1</th>\n",
       "      <th>Precaution_2</th>\n",
       "      <th>Precaution_3</th>\n",
       "      <th>Precaution_4</th>\n",
       "      <th>Description</th>\n",
       "    </tr>\n",
       "  </thead>\n",
       "  <tbody>\n",
       "    <tr>\n",
       "      <th>0</th>\n",
       "      <td>Drug Reaction</td>\n",
       "      <td>stop irritation</td>\n",
       "      <td>consult nearest hospital</td>\n",
       "      <td>stop taking drug</td>\n",
       "      <td>follow up</td>\n",
       "      <td>An adverse drug reaction (ADR) is an injury ca...</td>\n",
       "    </tr>\n",
       "    <tr>\n",
       "      <th>1</th>\n",
       "      <td>Malaria</td>\n",
       "      <td>Consult nearest hospital</td>\n",
       "      <td>avoid oily food</td>\n",
       "      <td>avoid non veg food</td>\n",
       "      <td>keep mosquitos out</td>\n",
       "      <td>An infectious disease caused by protozoan para...</td>\n",
       "    </tr>\n",
       "    <tr>\n",
       "      <th>2</th>\n",
       "      <td>Allergy</td>\n",
       "      <td>apply calamine</td>\n",
       "      <td>cover area with bandage</td>\n",
       "      <td>NaN</td>\n",
       "      <td>use ice to compress itching</td>\n",
       "      <td>An allergy is an immune system response to a f...</td>\n",
       "    </tr>\n",
       "    <tr>\n",
       "      <th>3</th>\n",
       "      <td>Hypothyroidism</td>\n",
       "      <td>reduce stress</td>\n",
       "      <td>exercise</td>\n",
       "      <td>eat healthy</td>\n",
       "      <td>get proper sleep</td>\n",
       "      <td>Hypothyroidism, also called underactive thyroi...</td>\n",
       "    </tr>\n",
       "    <tr>\n",
       "      <th>4</th>\n",
       "      <td>Psoriasis</td>\n",
       "      <td>wash hands with warm soapy water</td>\n",
       "      <td>stop bleeding using pressure</td>\n",
       "      <td>consult doctor</td>\n",
       "      <td>salt baths</td>\n",
       "      <td>Psoriasis is a common skin disorder that forms...</td>\n",
       "    </tr>\n",
       "  </tbody>\n",
       "</table>\n",
       "</div>"
      ],
      "text/plain": [
       "          Disease                      Precaution_1  \\\n",
       "0   Drug Reaction                   stop irritation   \n",
       "1         Malaria          Consult nearest hospital   \n",
       "2         Allergy                    apply calamine   \n",
       "3  Hypothyroidism                     reduce stress   \n",
       "4       Psoriasis  wash hands with warm soapy water   \n",
       "\n",
       "                   Precaution_2        Precaution_3  \\\n",
       "0      consult nearest hospital    stop taking drug   \n",
       "1               avoid oily food  avoid non veg food   \n",
       "2       cover area with bandage                 NaN   \n",
       "3                      exercise         eat healthy   \n",
       "4  stop bleeding using pressure      consult doctor   \n",
       "\n",
       "                  Precaution_4  \\\n",
       "0                    follow up   \n",
       "1           keep mosquitos out   \n",
       "2  use ice to compress itching   \n",
       "3             get proper sleep   \n",
       "4                   salt baths   \n",
       "\n",
       "                                         Description  \n",
       "0  An adverse drug reaction (ADR) is an injury ca...  \n",
       "1  An infectious disease caused by protozoan para...  \n",
       "2  An allergy is an immune system response to a f...  \n",
       "3  Hypothyroidism, also called underactive thyroi...  \n",
       "4  Psoriasis is a common skin disorder that forms...  "
      ]
     },
     "execution_count": 20,
     "metadata": {},
     "output_type": "execute_result"
    }
   ],
   "source": [
    "sol = pd.read_csv('solution.csv')\n",
    "sol.head()"
   ]
  },
  {
   "cell_type": "code",
   "execution_count": 40,
   "id": "9e417e16",
   "metadata": {},
   "outputs": [],
   "source": [
    "def Solution(Model_Output):\n",
    "    Model_Output = ' '.join(Output)\n",
    "    for i in range(0, 41):\n",
    "        if sol['Disease'][i] == Model_Output:\n",
    "            print(\"Disease Description\")\n",
    "            print('-------------------------------------------------------------------------------------------------------------------------------')\n",
    "            print(sol['Description'][i])\n",
    "            print('-------------------------------------------------------------------------------------------------------------------------------')\n",
    "            print('Steps to take  ')\n",
    "            print('-------------------------------------------------------------------------------------------------------------------------------')\n",
    "            print('1.', sol['Precaution_1'][i])\n",
    "            print('2.', sol['Precaution_2'][i])\n",
    "            print('3.', sol['Precaution_3'][i])\n",
    "            print('4.', sol['Precaution_4'][i])"
   ]
  },
  {
   "cell_type": "code",
   "execution_count": 41,
   "id": "fab78e02",
   "metadata": {},
   "outputs": [
    {
     "name": "stdout",
     "output_type": "stream",
     "text": [
      "Disease Description\n",
      "-------------------------------------------------------------------------------------------------------------------------------\n",
      "Impetigo (im-puh-TIE-go) is a common and highly contagious skin infection that mainly affects infants and children. Impetigo usually appears as red sores on the face, especially around a child's nose and mouth, and on hands and feet. The sores burst and develop honey-colored crusts.\n",
      "-------------------------------------------------------------------------------------------------------------------------------\n",
      "Steps to take  \n",
      "-------------------------------------------------------------------------------------------------------------------------------\n",
      "1. soak affected area in warm water\n",
      "2. use antibiotics\n",
      "3. remove scabs with wet compressed cloth\n",
      "4. consult doctor\n"
     ]
    }
   ],
   "source": [
    "Solution(Model_Output)"
   ]
  },
  {
   "cell_type": "code",
   "execution_count": null,
   "id": "dd88a59c",
   "metadata": {},
   "outputs": [],
   "source": []
  },
  {
   "cell_type": "code",
   "execution_count": null,
   "id": "7d3d5d3b",
   "metadata": {},
   "outputs": [],
   "source": []
  },
  {
   "cell_type": "markdown",
   "id": "b8496c9e",
   "metadata": {},
   "source": [
    "# Saving the model for deploynment "
   ]
  },
  {
   "cell_type": "code",
   "execution_count": 20,
   "id": "c75644f7",
   "metadata": {},
   "outputs": [],
   "source": [
    "import joblib"
   ]
  },
  {
   "cell_type": "markdown",
   "id": "e87032d6",
   "metadata": {},
   "source": [
    "### Save the Scaling function"
   ]
  },
  {
   "cell_type": "code",
   "execution_count": 21,
   "id": "ac257cde",
   "metadata": {
    "scrolled": true
   },
   "outputs": [
    {
     "data": {
      "text/plain": [
       "['Scaler.pkl']"
      ]
     },
     "execution_count": 21,
     "metadata": {},
     "output_type": "execute_result"
    }
   ],
   "source": [
    "joblib.dump(scaler,'Scaler.pkl')"
   ]
  },
  {
   "cell_type": "markdown",
   "id": "3854a777",
   "metadata": {},
   "source": [
    "### Save the Model "
   ]
  },
  {
   "cell_type": "code",
   "execution_count": 22,
   "id": "834078c8",
   "metadata": {},
   "outputs": [
    {
     "data": {
      "text/plain": [
       "['Model.pkl']"
      ]
     },
     "execution_count": 22,
     "metadata": {},
     "output_type": "execute_result"
    }
   ],
   "source": [
    "# dump the model in cwd\n",
    "joblib.dump(randomFC,'Model.pkl')"
   ]
  },
  {
   "cell_type": "code",
   "execution_count": null,
   "id": "61f4c5ec",
   "metadata": {},
   "outputs": [],
   "source": []
  }
 ],
 "metadata": {
  "kernelspec": {
   "display_name": "Python 3 (ipykernel)",
   "language": "python",
   "name": "python3"
  },
  "language_info": {
   "codemirror_mode": {
    "name": "ipython",
    "version": 3
   },
   "file_extension": ".py",
   "mimetype": "text/x-python",
   "name": "python",
   "nbconvert_exporter": "python",
   "pygments_lexer": "ipython3",
   "version": "3.10.9"
  }
 },
 "nbformat": 4,
 "nbformat_minor": 5
}
